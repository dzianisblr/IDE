{
 "cells": [
  {
   "cell_type": "code",
   "execution_count": 1,
   "metadata": {},
   "outputs": [
    {
     "name": "stdout",
     "output_type": "stream",
     "text": [
      "Число должно быть меньше\n",
      "Число должно быть меньше\n",
      "Число должно быть меньше\n",
      "Число должно быть меньше\n",
      "Поздравляем, Вы угадали! Это число 2. Количество попыток - 5\n"
     ]
    }
   ],
   "source": [
    "\"\"\"  GAME 'Find Number'  \"\"\"\n",
    "import numpy as np\n",
    "\n",
    "number = np.random.randint(1, 101) # загадываем число\n",
    "count = 0\n",
    "while True:\n",
    "    count +=1\n",
    "    predict_number = int(input('Угадай число от 1 до 100: '))\n",
    "    \n",
    "    if predict_number > number:\n",
    "        print('Число должно быть меньше')\n",
    "    elif predict_number < number:\n",
    "        print('Число должно быть больше')\n",
    "    else:\n",
    "        print(f'Поздравляем, Вы угадали! Это число {number}. Количество попыток - {count}')\n",
    "        break"
   ]
  },
  {
   "cell_type": "code",
   "execution_count": 55,
   "metadata": {},
   "outputs": [],
   "source": [
    "import game_v2"
   ]
  },
  {
   "cell_type": "code",
   "execution_count": 57,
   "metadata": {},
   "outputs": [
    {
     "data": {
      "text/plain": [
       "122"
      ]
     },
     "execution_count": 57,
     "metadata": {},
     "output_type": "execute_result"
    }
   ],
   "source": [
    "#game_v2.score_game(game_v2.random_predict)\n",
    "game_v2.random_predict(17)"
   ]
  },
  {
   "cell_type": "code",
   "execution_count": 48,
   "metadata": {},
   "outputs": [
    {
     "ename": "AttributeError",
     "evalue": "module 'game_v2' has no attribute 'score_game'",
     "output_type": "error",
     "traceback": [
      "\u001b[0;31m---------------------------------------------------------------------------\u001b[0m",
      "\u001b[0;31mAttributeError\u001b[0m                            Traceback (most recent call last)",
      "\u001b[0;32m/tmp/ipykernel_19928/1087868359.py\u001b[0m in \u001b[0;36m<module>\u001b[0;34m\u001b[0m\n\u001b[0;32m----> 1\u001b[0;31m \u001b[0mgame_v2\u001b[0m\u001b[0;34m.\u001b[0m\u001b[0mscore_game\u001b[0m\u001b[0;34m(\u001b[0m\u001b[0mgame_v2\u001b[0m\u001b[0;34m.\u001b[0m\u001b[0mrandom_predict\u001b[0m\u001b[0;34m(\u001b[0m\u001b[0;34m)\u001b[0m\u001b[0;34m)\u001b[0m\u001b[0;34m\u001b[0m\u001b[0;34m\u001b[0m\u001b[0m\n\u001b[0m",
      "\u001b[0;31mAttributeError\u001b[0m: module 'game_v2' has no attribute 'score_game'"
     ]
    }
   ],
   "source": [
    "game_v2.score_game(game_v2.random_predict)"
   ]
  },
  {
   "cell_type": "code",
   "execution_count": 58,
   "metadata": {},
   "outputs": [],
   "source": [
    "#random_predict(17)"
   ]
  }
 ],
 "metadata": {
  "interpreter": {
   "hash": "916dbcbb3f70747c44a77c7bcd40155683ae19c65e1c03b4aa3499c5328201f1"
  },
  "kernelspec": {
   "display_name": "Python 3.8.10 64-bit",
   "language": "python",
   "name": "python3"
  },
  "language_info": {
   "codemirror_mode": {
    "name": "ipython",
    "version": 3
   },
   "file_extension": ".py",
   "mimetype": "text/x-python",
   "name": "python",
   "nbconvert_exporter": "python",
   "pygments_lexer": "ipython3",
   "version": "3.9.7"
  },
  "orig_nbformat": 4
 },
 "nbformat": 4,
 "nbformat_minor": 2
}
